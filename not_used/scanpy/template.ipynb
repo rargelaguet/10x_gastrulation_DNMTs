{
 "cells": [
  {
   "cell_type": "markdown",
   "metadata": {},
   "source": [
    "# Import libraries"
   ]
  },
  {
   "cell_type": "code",
   "execution_count": null,
   "metadata": {
    "ExecuteTime": {
     "end_time": "2021-04-06T16:25:53.634703Z",
     "start_time": "2021-04-06T16:25:53.012389Z"
    }
   },
   "outputs": [],
   "source": [
    "import os\n",
    "from re import search\n",
    "from dfply import *"
   ]
  },
  {
   "cell_type": "markdown",
   "metadata": {
    "ExecuteTime": {
     "end_time": "2020-09-22T10:11:30.480623Z",
     "start_time": "2020-09-22T10:11:30.475170Z"
    }
   },
   "source": [
    "# Load settings"
   ]
  },
  {
   "cell_type": "code",
   "execution_count": null,
   "metadata": {
    "ExecuteTime": {
     "end_time": "2021-04-06T16:35:55.214715Z",
     "start_time": "2021-04-06T16:35:55.161373Z"
    }
   },
   "outputs": [],
   "source": [
    "if search(\"ricard\", os.uname()[1]):\n",
    "    exec(open('/Users/ricard/10x_gastrulation_TetChimera/settings.py').read())\n",
    "    exec(open('/Users/ricard/10x_gastrulation_TetChimera/utils.py').read())\n",
    "elif search(\"ebi\", os.uname()[1]):\n",
    "    exec(open('/homes/ricard/10x_gastrulation_TetChimera/settings.py').read())\n",
    "    exec(open('/homes/ricard/10x_gastrulation_TetChimera/utils.py').read())\n",
    "else:\n",
    "    exit(\"Computer not recognised\")"
   ]
  },
  {
   "cell_type": "markdown",
   "metadata": {},
   "source": [
    "## Define I/O"
   ]
  },
  {
   "cell_type": "code",
   "execution_count": null,
   "metadata": {
    "ExecuteTime": {
     "end_time": "2021-04-06T16:29:23.121372Z",
     "start_time": "2021-04-06T16:29:23.109565Z"
    }
   },
   "outputs": [],
   "source": [
    "io[\"outdir\"] = io[\"basedir\"] + \"/...\""
   ]
  },
  {
   "cell_type": "markdown",
   "metadata": {},
   "source": [
    "## Define options "
   ]
  },
  {
   "cell_type": "markdown",
   "metadata": {},
   "source": [
    "scanpy options"
   ]
  },
  {
   "cell_type": "code",
   "execution_count": null,
   "metadata": {},
   "outputs": [],
   "source": [
    "# %%capture\n",
    "# sc.settings.verbosity = 3\n",
    "# sc.logging.print_versions()\n",
    "sc.settings.set_figure_params(dpi=80, frameon=False, figsize=(8, 7), facecolor='white')"
   ]
  },
  {
   "cell_type": "code",
   "execution_count": null,
   "metadata": {},
   "outputs": [],
   "source": [
    "opts[\"classes\"] = [\n",
    "\t\"E7.5_Host\", \n",
    "\t\"E7.5_TET_TKO\", \n",
    "\t\"E8.5_Host\", \n",
    "\t\"E8.5_TET_TKO\",\n",
    "\t\"E8.5_WT\"\n",
    "\t# \"E9.5_TET_TKO\",\n",
    "\t# \"E10.5_Host\", \n",
    "\t# \"E10.5_TET_TKO\"\n",
    "]\n",
    "\n",
    "opts[\"celltypes\"] = [\n",
    "   \"Epiblast\",\n",
    "   \"Primitive_Streak\",\n",
    "   \"Caudal_epiblast\",\n",
    "   \"PGC\",\n",
    "   \"Anterior_Primitive_Streak\",\n",
    "   \"Notochord\",\n",
    "   \"Def._endoderm\",\n",
    "   \"Gut\",\n",
    "   \"Nascent_mesoderm\",\n",
    "   \"Mixed_mesoderm\",\n",
    "   \"Intermediate_mesoderm\",\n",
    "   \"Caudal_Mesoderm\",\n",
    "   \"Paraxial_mesoderm\",\n",
    "   \"Somitic_mesoderm\",\n",
    "   \"Pharyngeal_mesoderm\",\n",
    "   \"Cardiomyocytes\",\n",
    "   \"Allantois\",\n",
    "   \"ExE_mesoderm\",\n",
    "   \"Mesenchyme\",\n",
    "   \"Haematoendothelial_progenitors\",\n",
    "   \"Endothelium\",\n",
    "   \"Blood_progenitors_1\",\n",
    "   \"Blood_progenitors_2\",\n",
    "   \"Erythroid1\",\n",
    "   \"Erythroid2\",\n",
    "   \"Erythroid3\"\n",
    "   \"NMP\",\n",
    "   \"Rostral_neurectoderm\",\n",
    "   \"Caudal_neurectoderm\",\n",
    "   \"Neural_crest\",\n",
    "   \"Forebrain_Midbrain_Hindbrain\",\n",
    "   \"Spinal_cord\",\n",
    "   \"Surface_ectoderm\",\n",
    "   \"Visceral_endoderm\",\n",
    "   \"ExE_endoderm\",\n",
    "   \"ExE_ectoderm\",\n",
    "   \"Parietal_endoderm\"\n",
    "]"
   ]
  },
  {
   "cell_type": "markdown",
   "metadata": {},
   "source": [
    "## Load cell metadata"
   ]
  },
  {
   "cell_type": "code",
   "execution_count": null,
   "metadata": {
    "ExecuteTime": {
     "end_time": "2021-04-06T16:30:35.283253Z",
     "start_time": "2021-04-06T16:30:34.726012Z"
    }
   },
   "outputs": [],
   "source": [
    "metadata = (pd.read_table(io[\"metadata\"]) >>\n",
    "    mask(X[\"sample\"].isin(opts[\"samples\"]), X[\"celltype.mapped\"].isin(opts[\"celltypes\"]))\n",
    ")\n",
    "metadata.shape"
   ]
  },
  {
   "cell_type": "code",
   "execution_count": null,
   "metadata": {
    "ExecuteTime": {
     "end_time": "2021-04-06T16:30:36.245825Z",
     "start_time": "2021-04-06T16:30:36.169679Z"
    }
   },
   "outputs": [],
   "source": [
    "metadata.head()"
   ]
  },
  {
   "cell_type": "markdown",
   "metadata": {},
   "source": [
    "# Load anndata object"
   ]
  },
  {
   "cell_type": "code",
   "execution_count": null,
   "metadata": {
    "ExecuteTime": {
     "end_time": "2021-04-06T16:36:37.455720Z",
     "start_time": "2021-04-06T16:36:20.322661Z"
    }
   },
   "outputs": [],
   "source": [
    "adata = load_adata(\n",
    "    adata_file = io[\"anndata\"], \n",
    "    cells = metadata.cell.values, \n",
    "    normalise = True, \n",
    "    filter_lowly_expressed_genes = True,\n",
    "    set_colors = True\n",
    ")\n",
    "adata"
   ]
  },
  {
   "cell_type": "markdown",
   "metadata": {},
   "source": [
    "# Dimensionality reduction"
   ]
  },
  {
   "cell_type": "markdown",
   "metadata": {},
   "source": [
    "## PCA"
   ]
  },
  {
   "cell_type": "markdown",
   "metadata": {},
   "source": [
    "Run PCA"
   ]
  },
  {
   "cell_type": "code",
   "execution_count": null,
   "metadata": {
    "ExecuteTime": {
     "end_time": "2021-04-06T16:38:28.633743Z",
     "start_time": "2021-04-06T16:36:53.156399Z"
    }
   },
   "outputs": [],
   "source": [
    "sc.tl.pca(adata, svd_solver='arpack')"
   ]
  },
  {
   "cell_type": "markdown",
   "metadata": {},
   "source": [
    "Plot PCA"
   ]
  },
  {
   "cell_type": "code",
   "execution_count": null,
   "metadata": {
    "ExecuteTime": {
     "end_time": "2021-04-06T16:38:30.925787Z",
     "start_time": "2021-04-06T16:38:28.641280Z"
    }
   },
   "outputs": [],
   "source": [
    "sc.pl.pca(adata, components=[1,2], color=[\"celltype.mapped\",\"stage\"], size=25, legend_loc=None)"
   ]
  },
  {
   "cell_type": "markdown",
   "metadata": {},
   "source": [
    "## k-NN graph"
   ]
  },
  {
   "cell_type": "markdown",
   "metadata": {},
   "source": [
    "Build kNN graph"
   ]
  },
  {
   "cell_type": "code",
   "execution_count": null,
   "metadata": {
    "ExecuteTime": {
     "end_time": "2021-04-06T16:39:01.948758Z",
     "start_time": "2021-04-06T16:38:31.025870Z"
    }
   },
   "outputs": [],
   "source": [
    "sc.pp.neighbors(adata, n_neighbors=15, n_pcs=15)"
   ]
  },
  {
   "cell_type": "markdown",
   "metadata": {},
   "source": [
    "## UMAP"
   ]
  },
  {
   "cell_type": "markdown",
   "metadata": {},
   "source": [
    "Run UMAP"
   ]
  },
  {
   "cell_type": "code",
   "execution_count": null,
   "metadata": {
    "ExecuteTime": {
     "end_time": "2021-04-06T16:39:48.534493Z",
     "start_time": "2021-04-06T16:39:01.954770Z"
    }
   },
   "outputs": [],
   "source": [
    "sc.tl.umap(adata, min_dist=0.5, n_components=2)"
   ]
  },
  {
   "cell_type": "markdown",
   "metadata": {},
   "source": [
    "Plot UMAP"
   ]
  },
  {
   "cell_type": "code",
   "execution_count": null,
   "metadata": {
    "ExecuteTime": {
     "end_time": "2021-04-06T16:39:50.203208Z",
     "start_time": "2021-04-06T16:39:48.563050Z"
    },
    "scrolled": false
   },
   "outputs": [],
   "source": [
    "sc.pl.umap(adata, color=[\"celltype.mapped\",\"stage\"], size=25, legend_loc=\"on data\")"
   ]
  }
 ],
 "metadata": {
  "kernelspec": {
   "display_name": "Python 3",
   "language": "python",
   "name": "python3"
  },
  "language_info": {
   "codemirror_mode": {
    "name": "ipython",
    "version": 3
   },
   "file_extension": ".py",
   "mimetype": "text/x-python",
   "name": "python",
   "nbconvert_exporter": "python",
   "pygments_lexer": "ipython3",
   "version": "3.6.11"
  },
  "varInspector": {
   "cols": {
    "lenName": 16,
    "lenType": 16,
    "lenVar": 40
   },
   "kernels_config": {
    "python": {
     "delete_cmd_postfix": "",
     "delete_cmd_prefix": "del ",
     "library": "var_list.py",
     "varRefreshCmd": "print(var_dic_list())"
    },
    "r": {
     "delete_cmd_postfix": ") ",
     "delete_cmd_prefix": "rm(",
     "library": "var_list.r",
     "varRefreshCmd": "cat(var_dic_list()) "
    }
   },
   "position": {
    "height": "242px",
    "left": "1548px",
    "right": "20px",
    "top": "120px",
    "width": "350px"
   },
   "types_to_exclude": [
    "module",
    "function",
    "builtin_function_or_method",
    "instance",
    "_Feature"
   ],
   "window_display": false
  }
 },
 "nbformat": 4,
 "nbformat_minor": 5
}
