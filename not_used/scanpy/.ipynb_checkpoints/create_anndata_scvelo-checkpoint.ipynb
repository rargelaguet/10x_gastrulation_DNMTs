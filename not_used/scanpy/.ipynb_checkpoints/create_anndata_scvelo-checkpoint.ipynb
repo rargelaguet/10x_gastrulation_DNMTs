{
 "cells": [
  {
   "cell_type": "markdown",
   "metadata": {},
   "source": [
    "# Import libraries"
   ]
  },
  {
   "cell_type": "code",
   "execution_count": 2,
   "metadata": {
    "ExecuteTime": {
     "end_time": "2021-04-06T16:48:23.660590Z",
     "start_time": "2021-04-06T16:48:19.679894Z"
    }
   },
   "outputs": [],
   "source": [
    "import os\n",
    "from re import search\n",
    "from dfply import *\n",
    "import scvelo as scv"
   ]
  },
  {
   "cell_type": "code",
   "execution_count": 3,
   "metadata": {
    "ExecuteTime": {
     "end_time": "2021-04-06T16:48:23.695335Z",
     "start_time": "2021-04-06T16:48:23.664487Z"
    }
   },
   "outputs": [],
   "source": [
    "from IPython.core.interactiveshell import InteractiveShell\n",
    "InteractiveShell.ast_node_interactivity = \"all\""
   ]
  },
  {
   "cell_type": "markdown",
   "metadata": {
    "ExecuteTime": {
     "end_time": "2020-09-22T10:11:30.480623Z",
     "start_time": "2020-09-22T10:11:30.475170Z"
    }
   },
   "source": [
    "# Load settings"
   ]
  },
  {
   "cell_type": "code",
   "execution_count": 4,
   "metadata": {
    "ExecuteTime": {
     "end_time": "2021-04-06T16:48:23.839611Z",
     "start_time": "2021-04-06T16:48:23.708272Z"
    }
   },
   "outputs": [],
   "source": [
    "if search(\"ricard\", os.uname()[1]):\n",
    "    exec(open('/Users/ricard/10x_gastrulation_TetChimera/settings.py').read())\n",
    "    exec(open('/Users/ricard/10x_gastrulation_TetChimera/utils.py').read())\n",
    "elif search(\"ebi\", os.uname()[1]):\n",
    "    exec(open('/homes/ricard/10x_gastrulation_TetChimera/settings.py').read())\n",
    "    exec(open('/homes/ricard/10x_gastrulation_TetChimera/utils.py').read())\n",
    "else:\n",
    "    exit(\"Computer not recognised\")"
   ]
  },
  {
   "cell_type": "markdown",
   "metadata": {},
   "source": [
    "## Define I/O"
   ]
  },
  {
   "cell_type": "code",
   "execution_count": 5,
   "metadata": {
    "ExecuteTime": {
     "end_time": "2021-04-06T16:48:23.852470Z",
     "start_time": "2021-04-06T16:48:23.846815Z"
    }
   },
   "outputs": [],
   "source": [
    "io[\"outfile\"] = io[\"basedir\"] + \"/processed/anndata_scvelo.h5ad\""
   ]
  },
  {
   "cell_type": "markdown",
   "metadata": {},
   "source": [
    "## Define options "
   ]
  },
  {
   "cell_type": "code",
   "execution_count": 26,
   "metadata": {
    "ExecuteTime": {
     "end_time": "2021-04-06T16:56:04.632301Z",
     "start_time": "2021-04-06T16:56:04.624199Z"
    }
   },
   "outputs": [],
   "source": [
    "opts[\"samples\"] = [\n",
    "    \"E75_TET_TKO_L002\",\n",
    "    \"E75_WT_Host_L001\",\n",
    "    \"E85_Rep1_TET_TKO_L004\",\n",
    "    \"E85_Rep1_WT_Host_L003\",\n",
    "    \"E85_Rep2_TET_TKO_L006\",\n",
    "    \"E85_Rep2_WT_Host_L005\"\n",
    "    # \"E8_5_TET_WT_rep1_SIGAG8\",\n",
    "    # \"E8_5_TET_WT_rep2_SIGAH8\"\n",
    "]"
   ]
  },
  {
   "cell_type": "markdown",
   "metadata": {},
   "source": [
    "# Load metadata"
   ]
  },
  {
   "cell_type": "code",
   "execution_count": 7,
   "metadata": {
    "ExecuteTime": {
     "end_time": "2021-04-06T16:48:24.510817Z",
     "start_time": "2021-04-06T16:48:23.918076Z"
    }
   },
   "outputs": [
    {
     "data": {
      "text/plain": [
       "(46360, 14)"
      ]
     },
     "execution_count": 7,
     "metadata": {},
     "output_type": "execute_result"
    }
   ],
   "source": [
    "metadata = (pd.read_table(io[\"metadata\"]) >>\n",
    "    # mask(X.pass_rnaQC==True, X.doublet_call==False, X[\"sample\"].isin(opts[\"samples\"]))\n",
    "    mask(X.pass_QC==True, X[\"sample\"].isin(opts[\"samples\"]))\n",
    ").set_index(\"cell\", drop=False)\n",
    "metadata.shape"
   ]
  },
  {
   "cell_type": "code",
   "execution_count": 8,
   "metadata": {
    "ExecuteTime": {
     "end_time": "2021-04-06T16:48:24.559141Z",
     "start_time": "2021-04-06T16:48:24.526416Z"
    }
   },
   "outputs": [
    {
     "data": {
      "text/plain": [
       "array(['E75_TET_TKO_L002_AAACCCACACACCTGG-1',\n",
       "       'E75_TET_TKO_L002_AAACCCACACTAGAGG-1',\n",
       "       'E75_TET_TKO_L002_AAACCCAGTGACGTCC-1', ...,\n",
       "       'E8_5_TET_WT_rep2_SIGAH8_TTTGGTTGTAAGGAGA-1',\n",
       "       'E8_5_TET_WT_rep2_SIGAH8_TTTGTTGGTCCACAGC-1',\n",
       "       'E8_5_TET_WT_rep2_SIGAH8_TTTGTTGTCTACTCAT-1'], dtype=object)"
      ]
     },
     "execution_count": 8,
     "metadata": {},
     "output_type": "execute_result"
    }
   ],
   "source": [
    "metadata.index.values"
   ]
  },
  {
   "cell_type": "markdown",
   "metadata": {
    "heading_collapsed": true
   },
   "source": [
    "# Load anndata object"
   ]
  },
  {
   "cell_type": "code",
   "execution_count": 9,
   "metadata": {
    "ExecuteTime": {
     "end_time": "2021-04-06T16:48:33.015805Z",
     "start_time": "2021-04-06T16:48:24.605200Z"
    },
    "hidden": true
   },
   "outputs": [
    {
     "ename": "TypeError",
     "evalue": "'<' not supported between instances of 'float' and 'str'",
     "output_type": "error",
     "traceback": [
      "\u001b[0;31m---------------------------------------------------------------------------\u001b[0m",
      "\u001b[0;31mTypeError\u001b[0m                                 Traceback (most recent call last)",
      "\u001b[0;32m<ipython-input-9-51bae2280e0b>\u001b[0m in \u001b[0;36m<module>\u001b[0;34m\u001b[0m\n\u001b[0;32m----> 1\u001b[0;31m \u001b[0madata\u001b[0m \u001b[0;34m=\u001b[0m \u001b[0mload_adata\u001b[0m\u001b[0;34m(\u001b[0m\u001b[0madata_file\u001b[0m \u001b[0;34m=\u001b[0m \u001b[0mio\u001b[0m\u001b[0;34m[\u001b[0m\u001b[0;34m\"anndata\"\u001b[0m\u001b[0;34m]\u001b[0m\u001b[0;34m,\u001b[0m \u001b[0mmetadata_file\u001b[0m \u001b[0;34m=\u001b[0m \u001b[0mio\u001b[0m\u001b[0;34m[\u001b[0m\u001b[0;34m\"metadata\"\u001b[0m\u001b[0;34m]\u001b[0m\u001b[0;34m,\u001b[0m \u001b[0mnormalise\u001b[0m \u001b[0;34m=\u001b[0m \u001b[0;32mFalse\u001b[0m\u001b[0;34m,\u001b[0m \u001b[0mcells\u001b[0m \u001b[0;34m=\u001b[0m \u001b[0mmetadata\u001b[0m\u001b[0;34m.\u001b[0m\u001b[0mindex\u001b[0m\u001b[0;34m.\u001b[0m\u001b[0mvalues\u001b[0m\u001b[0;34m)\u001b[0m\u001b[0;34m\u001b[0m\u001b[0;34m\u001b[0m\u001b[0m\n\u001b[0m",
      "\u001b[0;32m<string>\u001b[0m in \u001b[0;36mload_adata\u001b[0;34m(adata_file, metadata_file, normalise, cells, features, filter_lowly_expressed_genes, set_colors)\u001b[0m\n",
      "\u001b[0;32m<__array_function__ internals>\u001b[0m in \u001b[0;36munique\u001b[0;34m(*args, **kwargs)\u001b[0m\n",
      "\u001b[0;32m~/anaconda3/envs/base_new/lib/python3.6/site-packages/numpy/lib/arraysetops.py\u001b[0m in \u001b[0;36munique\u001b[0;34m(ar, return_index, return_inverse, return_counts, axis)\u001b[0m\n\u001b[1;32m    259\u001b[0m     \u001b[0mar\u001b[0m \u001b[0;34m=\u001b[0m \u001b[0mnp\u001b[0m\u001b[0;34m.\u001b[0m\u001b[0masanyarray\u001b[0m\u001b[0;34m(\u001b[0m\u001b[0mar\u001b[0m\u001b[0;34m)\u001b[0m\u001b[0;34m\u001b[0m\u001b[0;34m\u001b[0m\u001b[0m\n\u001b[1;32m    260\u001b[0m     \u001b[0;32mif\u001b[0m \u001b[0maxis\u001b[0m \u001b[0;32mis\u001b[0m \u001b[0;32mNone\u001b[0m\u001b[0;34m:\u001b[0m\u001b[0;34m\u001b[0m\u001b[0;34m\u001b[0m\u001b[0m\n\u001b[0;32m--> 261\u001b[0;31m         \u001b[0mret\u001b[0m \u001b[0;34m=\u001b[0m \u001b[0m_unique1d\u001b[0m\u001b[0;34m(\u001b[0m\u001b[0mar\u001b[0m\u001b[0;34m,\u001b[0m \u001b[0mreturn_index\u001b[0m\u001b[0;34m,\u001b[0m \u001b[0mreturn_inverse\u001b[0m\u001b[0;34m,\u001b[0m \u001b[0mreturn_counts\u001b[0m\u001b[0;34m)\u001b[0m\u001b[0;34m\u001b[0m\u001b[0;34m\u001b[0m\u001b[0m\n\u001b[0m\u001b[1;32m    262\u001b[0m         \u001b[0;32mreturn\u001b[0m \u001b[0m_unpack_tuple\u001b[0m\u001b[0;34m(\u001b[0m\u001b[0mret\u001b[0m\u001b[0;34m)\u001b[0m\u001b[0;34m\u001b[0m\u001b[0;34m\u001b[0m\u001b[0m\n\u001b[1;32m    263\u001b[0m \u001b[0;34m\u001b[0m\u001b[0m\n",
      "\u001b[0;32m~/anaconda3/envs/base_new/lib/python3.6/site-packages/numpy/lib/arraysetops.py\u001b[0m in \u001b[0;36m_unique1d\u001b[0;34m(ar, return_index, return_inverse, return_counts)\u001b[0m\n\u001b[1;32m    320\u001b[0m         \u001b[0maux\u001b[0m \u001b[0;34m=\u001b[0m \u001b[0mar\u001b[0m\u001b[0;34m[\u001b[0m\u001b[0mperm\u001b[0m\u001b[0;34m]\u001b[0m\u001b[0;34m\u001b[0m\u001b[0;34m\u001b[0m\u001b[0m\n\u001b[1;32m    321\u001b[0m     \u001b[0;32melse\u001b[0m\u001b[0;34m:\u001b[0m\u001b[0;34m\u001b[0m\u001b[0;34m\u001b[0m\u001b[0m\n\u001b[0;32m--> 322\u001b[0;31m         \u001b[0mar\u001b[0m\u001b[0;34m.\u001b[0m\u001b[0msort\u001b[0m\u001b[0;34m(\u001b[0m\u001b[0;34m)\u001b[0m\u001b[0;34m\u001b[0m\u001b[0;34m\u001b[0m\u001b[0m\n\u001b[0m\u001b[1;32m    323\u001b[0m         \u001b[0maux\u001b[0m \u001b[0;34m=\u001b[0m \u001b[0mar\u001b[0m\u001b[0;34m\u001b[0m\u001b[0;34m\u001b[0m\u001b[0m\n\u001b[1;32m    324\u001b[0m     \u001b[0mmask\u001b[0m \u001b[0;34m=\u001b[0m \u001b[0mnp\u001b[0m\u001b[0;34m.\u001b[0m\u001b[0mempty\u001b[0m\u001b[0;34m(\u001b[0m\u001b[0maux\u001b[0m\u001b[0;34m.\u001b[0m\u001b[0mshape\u001b[0m\u001b[0;34m,\u001b[0m \u001b[0mdtype\u001b[0m\u001b[0;34m=\u001b[0m\u001b[0mnp\u001b[0m\u001b[0;34m.\u001b[0m\u001b[0mbool_\u001b[0m\u001b[0;34m)\u001b[0m\u001b[0;34m\u001b[0m\u001b[0;34m\u001b[0m\u001b[0m\n",
      "\u001b[0;31mTypeError\u001b[0m: '<' not supported between instances of 'float' and 'str'"
     ]
    }
   ],
   "source": [
    "adata = load_adata(adata_file = io[\"anndata\"], metadata_file = io[\"metadata\"], normalise = False, cells = metadata.index.values)"
   ]
  },
  {
   "cell_type": "code",
   "execution_count": null,
   "metadata": {
    "ExecuteTime": {
     "end_time": "2021-04-06T16:48:33.069393Z",
     "start_time": "2021-04-06T16:48:19.582Z"
    },
    "hidden": true
   },
   "outputs": [],
   "source": [
    "adata.obs.head()"
   ]
  },
  {
   "cell_type": "markdown",
   "metadata": {},
   "source": [
    "# Load spliced and unspliced counts from loom files"
   ]
  },
  {
   "cell_type": "code",
   "execution_count": null,
   "metadata": {
    "ExecuteTime": {
     "end_time": "2021-04-06T16:48:33.108310Z",
     "start_time": "2021-04-06T16:48:19.586Z"
    }
   },
   "outputs": [],
   "source": [
    "rename_dict = {\n",
    "    \"E8.5_rep1\" : \"multiome1\",\n",
    "    \"E8.5_rep2\" : \"multiome2\",\n",
    "    \"E7.5_rep1\" : \"rep1_L001_multiome\",\n",
    "    \"E7.5_rep2\" : \"rep2_L002_multiome\"\n",
    "}\n"
   ]
  },
  {
   "cell_type": "code",
   "execution_count": 34,
   "metadata": {
    "ExecuteTime": {
     "end_time": "2021-04-06T16:58:22.403914Z",
     "start_time": "2021-04-06T16:58:22.397309Z"
    }
   },
   "outputs": [
    {
     "data": {
      "text/plain": [
       "'2.0.17'"
      ]
     },
     "execution_count": 34,
     "metadata": {},
     "output_type": "execute_result"
    }
   ],
   "source": [
    "import loompy\n",
    "loompy.__version__"
   ]
  },
  {
   "cell_type": "code",
   "execution_count": 29,
   "metadata": {
    "ExecuteTime": {
     "end_time": "2021-04-06T16:57:13.345188Z",
     "start_time": "2021-04-06T16:57:13.249327Z"
    }
   },
   "outputs": [
    {
     "ename": "ValueError",
     "evalue": "Row attribute 'Accession' dtype object is not allowed\nRow attribute 'Chromosome' dtype object is not allowed\nRow attribute 'Gene' dtype object is not allowed\nRow attribute 'Strand' dtype object is not allowed\nColumn attribute 'CellID' dtype object is not allowed\nFor help, see http://linnarssonlab.org/loompy/format/\n/Users/ricard/data/10x_gastrulation_TetChimera/processed/velocyto/E75_TET_TKO.loom does not appead to be a valid Loom file according to Loom spec version '2.0.1'",
     "output_type": "error",
     "traceback": [
      "\u001b[0;31m---------------------------------------------------------------------------\u001b[0m",
      "\u001b[0;31mValueError\u001b[0m                                Traceback (most recent call last)",
      "\u001b[0;32m<ipython-input-29-059263641af7>\u001b[0m in \u001b[0;36m<module>\u001b[0;34m\u001b[0m\n\u001b[1;32m      1\u001b[0m \u001b[0mio\u001b[0m\u001b[0;34m[\u001b[0m\u001b[0;34m\"loom_velocyto\"\u001b[0m\u001b[0;34m]\u001b[0m \u001b[0;34m=\u001b[0m \u001b[0;34m\"/Users/ricard/data/10x_gastrulation_TetChimera/processed/velocyto/E75_TET_TKO.loom\"\u001b[0m\u001b[0;34m\u001b[0m\u001b[0;34m\u001b[0m\u001b[0m\n\u001b[0;32m----> 2\u001b[0;31m \u001b[0msc\u001b[0m\u001b[0;34m.\u001b[0m\u001b[0mread_loom\u001b[0m\u001b[0;34m(\u001b[0m\u001b[0mio\u001b[0m\u001b[0;34m[\u001b[0m\u001b[0;34m\"loom_velocyto\"\u001b[0m\u001b[0;34m]\u001b[0m\u001b[0;34m,\u001b[0m \u001b[0msparse\u001b[0m\u001b[0;34m=\u001b[0m\u001b[0;32mTrue\u001b[0m\u001b[0;34m,\u001b[0m \u001b[0mX_name\u001b[0m\u001b[0;34m=\u001b[0m\u001b[0;34m'spliced'\u001b[0m\u001b[0;34m,\u001b[0m \u001b[0mobs_names\u001b[0m\u001b[0;34m=\u001b[0m\u001b[0;34m'CellID'\u001b[0m\u001b[0;34m,\u001b[0m \u001b[0mobsm_names\u001b[0m\u001b[0;34m=\u001b[0m\u001b[0;32mNone\u001b[0m\u001b[0;34m,\u001b[0m \u001b[0mvar_names\u001b[0m\u001b[0;34m=\u001b[0m\u001b[0;34m'Gene'\u001b[0m\u001b[0;34m)\u001b[0m\u001b[0;34m\u001b[0m\u001b[0;34m\u001b[0m\u001b[0m\n\u001b[0m",
      "\u001b[0;32m~/anaconda3/envs/base_new/lib/python3.6/site-packages/anndata/_io/read.py\u001b[0m in \u001b[0;36mread_loom\u001b[0;34m(filename, sparse, cleanup, X_name, obs_names, obsm_names, var_names, varm_names, dtype, **kwargs)\u001b[0m\n\u001b[1;32m    192\u001b[0m     \u001b[0;32mfrom\u001b[0m \u001b[0mloompy\u001b[0m \u001b[0;32mimport\u001b[0m \u001b[0mconnect\u001b[0m\u001b[0;34m\u001b[0m\u001b[0;34m\u001b[0m\u001b[0m\n\u001b[1;32m    193\u001b[0m \u001b[0;34m\u001b[0m\u001b[0m\n\u001b[0;32m--> 194\u001b[0;31m     \u001b[0;32mwith\u001b[0m \u001b[0mconnect\u001b[0m\u001b[0;34m(\u001b[0m\u001b[0mfilename\u001b[0m\u001b[0;34m,\u001b[0m \u001b[0;34m\"r\"\u001b[0m\u001b[0;34m,\u001b[0m \u001b[0;34m**\u001b[0m\u001b[0mkwargs\u001b[0m\u001b[0;34m)\u001b[0m \u001b[0;32mas\u001b[0m \u001b[0mlc\u001b[0m\u001b[0;34m:\u001b[0m\u001b[0;34m\u001b[0m\u001b[0;34m\u001b[0m\u001b[0m\n\u001b[0m\u001b[1;32m    195\u001b[0m         \u001b[0;32mif\u001b[0m \u001b[0mX_name\u001b[0m \u001b[0;32mnot\u001b[0m \u001b[0;32min\u001b[0m \u001b[0mlc\u001b[0m\u001b[0;34m.\u001b[0m\u001b[0mlayers\u001b[0m\u001b[0;34m.\u001b[0m\u001b[0mkeys\u001b[0m\u001b[0;34m(\u001b[0m\u001b[0;34m)\u001b[0m\u001b[0;34m:\u001b[0m\u001b[0;34m\u001b[0m\u001b[0;34m\u001b[0m\u001b[0m\n\u001b[1;32m    196\u001b[0m             \u001b[0mX_name\u001b[0m \u001b[0;34m=\u001b[0m \u001b[0;34m\"\"\u001b[0m\u001b[0;34m\u001b[0m\u001b[0;34m\u001b[0m\u001b[0m\n",
      "\u001b[0;32m~/anaconda3/envs/base_new/lib/python3.6/site-packages/loompy/loompy.py\u001b[0m in \u001b[0;36mconnect\u001b[0;34m(filename, mode, validate, spec_version)\u001b[0m\n\u001b[1;32m   1147\u001b[0m                 \u001b[0mNote\u001b[0m\u001b[0;34m:\u001b[0m \u001b[0;32mif\u001b[0m \u001b[0mvalidation\u001b[0m \u001b[0;32mis\u001b[0m \u001b[0mrequested\u001b[0m\u001b[0;34m,\u001b[0m \u001b[0man\u001b[0m \u001b[0mexception\u001b[0m \u001b[0;32mis\u001b[0m \u001b[0mraised\u001b[0m \u001b[0;32mif\u001b[0m \u001b[0mvalidation\u001b[0m \u001b[0mfails\u001b[0m\u001b[0;34m.\u001b[0m\u001b[0;34m\u001b[0m\u001b[0;34m\u001b[0m\u001b[0m\n\u001b[1;32m   1148\u001b[0m \t\"\"\"\n\u001b[0;32m-> 1149\u001b[0;31m         \u001b[0;32mreturn\u001b[0m \u001b[0mLoomConnection\u001b[0m\u001b[0;34m(\u001b[0m\u001b[0mfilename\u001b[0m\u001b[0;34m,\u001b[0m \u001b[0mmode\u001b[0m\u001b[0;34m,\u001b[0m \u001b[0mvalidate\u001b[0m\u001b[0;34m=\u001b[0m\u001b[0mvalidate\u001b[0m\u001b[0;34m,\u001b[0m \u001b[0mspec_version\u001b[0m\u001b[0;34m=\u001b[0m\u001b[0mspec_version\u001b[0m\u001b[0;34m)\u001b[0m\u001b[0;34m\u001b[0m\u001b[0;34m\u001b[0m\u001b[0m\n\u001b[0m",
      "\u001b[0;32m~/anaconda3/envs/base_new/lib/python3.6/site-packages/loompy/loompy.py\u001b[0m in \u001b[0;36m__init__\u001b[0;34m(self, filename, mode, validate, spec_version)\u001b[0m\n\u001b[1;32m     83\u001b[0m                         \u001b[0mlv\u001b[0m \u001b[0;34m=\u001b[0m \u001b[0mloompy\u001b[0m\u001b[0;34m.\u001b[0m\u001b[0mLoomValidator\u001b[0m\u001b[0;34m(\u001b[0m\u001b[0mversion\u001b[0m\u001b[0;34m=\u001b[0m\u001b[0mspec_version\u001b[0m\u001b[0;34m)\u001b[0m\u001b[0;34m\u001b[0m\u001b[0;34m\u001b[0m\u001b[0m\n\u001b[1;32m     84\u001b[0m                         \u001b[0;32mif\u001b[0m \u001b[0;32mnot\u001b[0m \u001b[0mlv\u001b[0m\u001b[0;34m.\u001b[0m\u001b[0mvalidate\u001b[0m\u001b[0;34m(\u001b[0m\u001b[0mfilename\u001b[0m\u001b[0;34m)\u001b[0m\u001b[0;34m:\u001b[0m\u001b[0;34m\u001b[0m\u001b[0;34m\u001b[0m\u001b[0m\n\u001b[0;32m---> 85\u001b[0;31m                                 \u001b[0;32mraise\u001b[0m \u001b[0mValueError\u001b[0m\u001b[0;34m(\u001b[0m\u001b[0;34m\"\\n\"\u001b[0m\u001b[0;34m.\u001b[0m\u001b[0mjoin\u001b[0m\u001b[0;34m(\u001b[0m\u001b[0mlv\u001b[0m\u001b[0;34m.\u001b[0m\u001b[0merrors\u001b[0m\u001b[0;34m)\u001b[0m \u001b[0;34m+\u001b[0m \u001b[0;34mf\"\\n{filename} does not appead to be a valid Loom file according to Loom spec version '{spec_version}'\"\u001b[0m\u001b[0;34m)\u001b[0m\u001b[0;34m\u001b[0m\u001b[0;34m\u001b[0m\u001b[0m\n\u001b[0m\u001b[1;32m     86\u001b[0m \u001b[0;34m\u001b[0m\u001b[0m\n\u001b[1;32m     87\u001b[0m                 \u001b[0mself\u001b[0m\u001b[0;34m.\u001b[0m\u001b[0m_file\u001b[0m \u001b[0;34m=\u001b[0m \u001b[0mh5py\u001b[0m\u001b[0;34m.\u001b[0m\u001b[0mFile\u001b[0m\u001b[0;34m(\u001b[0m\u001b[0mfilename\u001b[0m\u001b[0;34m,\u001b[0m \u001b[0mmode\u001b[0m\u001b[0;34m)\u001b[0m\u001b[0;34m\u001b[0m\u001b[0;34m\u001b[0m\u001b[0m\n",
      "\u001b[0;31mValueError\u001b[0m: Row attribute 'Accession' dtype object is not allowed\nRow attribute 'Chromosome' dtype object is not allowed\nRow attribute 'Gene' dtype object is not allowed\nRow attribute 'Strand' dtype object is not allowed\nColumn attribute 'CellID' dtype object is not allowed\nFor help, see http://linnarssonlab.org/loompy/format/\n/Users/ricard/data/10x_gastrulation_TetChimera/processed/velocyto/E75_TET_TKO.loom does not appead to be a valid Loom file according to Loom spec version '2.0.1'"
     ]
    }
   ],
   "source": [
    "io[\"loom_velocyto\"] = \"/Users/ricard/data/10x_gastrulation_TetChimera/processed/velocyto/E85_Rep2_WT_Host.loom\"\n",
    "sc.read_loom(io[\"loom_velocyto\"], sparse=True, X_name='spliced', obs_names='CellID', obsm_names=None, var_names='Gene')"
   ]
  },
  {
   "cell_type": "code",
   "execution_count": 27,
   "metadata": {
    "ExecuteTime": {
     "end_time": "2021-04-06T16:56:08.337745Z",
     "start_time": "2021-04-06T16:56:08.329087Z"
    }
   },
   "outputs": [
    {
     "name": "stdout",
     "output_type": "stream",
     "text": [
      "/Users/ricard/data/10x_gastrulation_TetChimera/processed/rna/velocyto/E75_TET_TKO.loom\n",
      "/Users/ricard/data/10x_gastrulation_TetChimera/processed/rna/velocyto/E75_WT_Host.loom\n",
      "/Users/ricard/data/10x_gastrulation_TetChimera/processed/rna/velocyto/E85_Rep1_TET_TKO.loom\n",
      "/Users/ricard/data/10x_gastrulation_TetChimera/processed/rna/velocyto/E85_Rep1_WT_Host.loom\n",
      "/Users/ricard/data/10x_gastrulation_TetChimera/processed/rna/velocyto/E85_Rep2_TET_TKO.loom\n",
      "/Users/ricard/data/10x_gastrulation_TetChimera/processed/rna/velocyto/E85_Rep2_WT_Host.loom\n"
     ]
    }
   ],
   "source": [
    "looms = [None for i in range(len(opts[\"samples\"]))]\n",
    "for i in range(len(opts[\"samples\"])):\n",
    "    # sample = opts[\"samples\"][i]\n",
    "    sample = \"_\".join(opts[\"samples\"][i].split(\"_\")[:-1])\n",
    "    io[\"loom_velocyto\"] = io[\"basedir\"] + \"/processed/rna/velocyto/\" + sample + \".loom\"\n",
    "    print(io[\"loom_velocyto\"])\n",
    "    # looms[i] = sc.read_loom(io[\"loom_velocyto\"], sparse=True, X_name='spliced', obs_names='CellID', obsm_names=None, var_names='Gene')\n",
    "    # looms[i].var_names_make_unique()\n",
    "    # looms[i].obs.index = looms[i].obs.index.str.replace(rename_dict[opts[\"samples\"][i]]+\":\",opts[\"samples\"][i]+\"_\").str.replace(\"x\",\"-1\")\n",
    "    # print(looms[i].shape)\n",
    "    # print(looms[i].obs.head())"
   ]
  },
  {
   "cell_type": "code",
   "execution_count": 151,
   "metadata": {},
   "outputs": [],
   "source": [
    "adata_loom = anndata.AnnData.concatenate(*looms, join='inner', batch_key=None, index_unique=None)\n",
    "del looms"
   ]
  },
  {
   "cell_type": "code",
   "execution_count": 157,
   "metadata": {},
   "outputs": [
    {
     "data": {
      "text/plain": [
       "(27195, 32285)"
      ]
     },
     "execution_count": 157,
     "metadata": {},
     "output_type": "execute_result"
    },
    {
     "data": {
      "text/plain": [
       "(44429, 55421)"
      ]
     },
     "execution_count": 157,
     "metadata": {},
     "output_type": "execute_result"
    }
   ],
   "source": [
    "adata.shape\n",
    "adata_loom.shape"
   ]
  },
  {
   "cell_type": "markdown",
   "metadata": {},
   "source": [
    "Remove non-used layers to save memory"
   ]
  },
  {
   "cell_type": "code",
   "execution_count": 154,
   "metadata": {},
   "outputs": [],
   "source": [
    "del adata_loom.layers[\"ambiguous\"]\n",
    "del adata_loom.layers[\"matrix\"]"
   ]
  },
  {
   "cell_type": "markdown",
   "metadata": {},
   "source": [
    "Merge anndata objects"
   ]
  },
  {
   "cell_type": "code",
   "execution_count": 161,
   "metadata": {},
   "outputs": [],
   "source": [
    "adata_final = scv.utils.merge(adata, adata_loom)\n",
    "del adata_loom\n",
    "del adata\n",
    "adata_final"
   ]
  },
  {
   "cell_type": "code",
   "execution_count": 169,
   "metadata": {},
   "outputs": [],
   "source": [
    "adata_final.obs.index.name = None"
   ]
  },
  {
   "cell_type": "code",
   "execution_count": 171,
   "metadata": {},
   "outputs": [
    {
     "data": {
      "text/html": [
       "<div>\n",
       "<style scoped>\n",
       "    .dataframe tbody tr th:only-of-type {\n",
       "        vertical-align: middle;\n",
       "    }\n",
       "\n",
       "    .dataframe tbody tr th {\n",
       "        vertical-align: top;\n",
       "    }\n",
       "\n",
       "    .dataframe thead th {\n",
       "        text-align: right;\n",
       "    }\n",
       "</style>\n",
       "<table border=\"1\" class=\"dataframe\">\n",
       "  <thead>\n",
       "    <tr style=\"text-align: right;\">\n",
       "      <th></th>\n",
       "      <th>cell</th>\n",
       "      <th>sample</th>\n",
       "      <th>barcode</th>\n",
       "      <th>archR_cell</th>\n",
       "      <th>nFeature_RNA</th>\n",
       "      <th>nCount_RNA</th>\n",
       "      <th>mtFraction_RNA</th>\n",
       "      <th>pass_rnaQC</th>\n",
       "      <th>celltype.mapped</th>\n",
       "      <th>celltype.score</th>\n",
       "      <th>...</th>\n",
       "      <th>PromoterRatio_atac</th>\n",
       "      <th>NucleosomeRatio_atac</th>\n",
       "      <th>nFrags_atac</th>\n",
       "      <th>BlacklistRatio_atac</th>\n",
       "      <th>pass_atacQC</th>\n",
       "      <th>celltype.predicted</th>\n",
       "      <th>stage</th>\n",
       "      <th>initial_size_spliced</th>\n",
       "      <th>initial_size_unspliced</th>\n",
       "      <th>initial_size</th>\n",
       "    </tr>\n",
       "  </thead>\n",
       "  <tbody>\n",
       "    <tr>\n",
       "      <th>E7.5_rep1_AAACAGCCAAACTCAT-1</th>\n",
       "      <td>E7.5_rep1_AAACAGCCAAACTCAT-1</td>\n",
       "      <td>E7.5_rep1</td>\n",
       "      <td>AAACAGCCAAACTCAT-1</td>\n",
       "      <td>E7.5_rep1#AAACAGCCAAACTCAT-1</td>\n",
       "      <td>2929.0</td>\n",
       "      <td>7538.0</td>\n",
       "      <td>16.105068</td>\n",
       "      <td>True</td>\n",
       "      <td>Def._endoderm</td>\n",
       "      <td>0.36</td>\n",
       "      <td>...</td>\n",
       "      <td>0.242666</td>\n",
       "      <td>2.428711</td>\n",
       "      <td>3511.0</td>\n",
       "      <td>0.076616</td>\n",
       "      <td>False</td>\n",
       "      <td>Surface_ectoderm</td>\n",
       "      <td>E7.5</td>\n",
       "      <td>6130</td>\n",
       "      <td>637</td>\n",
       "      <td>6130.0</td>\n",
       "    </tr>\n",
       "    <tr>\n",
       "      <th>E7.5_rep1_AAACAGCCACAACCTA-1</th>\n",
       "      <td>E7.5_rep1_AAACAGCCACAACCTA-1</td>\n",
       "      <td>E7.5_rep1</td>\n",
       "      <td>AAACAGCCACAACCTA-1</td>\n",
       "      <td>nan</td>\n",
       "      <td>4125.0</td>\n",
       "      <td>12134.0</td>\n",
       "      <td>20.092303</td>\n",
       "      <td>True</td>\n",
       "      <td>ExE_ectoderm</td>\n",
       "      <td>1.00</td>\n",
       "      <td>...</td>\n",
       "      <td>NaN</td>\n",
       "      <td>NaN</td>\n",
       "      <td>NaN</td>\n",
       "      <td>NaN</td>\n",
       "      <td>False</td>\n",
       "      <td>ExE_ectoderm</td>\n",
       "      <td>E7.5</td>\n",
       "      <td>7147</td>\n",
       "      <td>3678</td>\n",
       "      <td>7147.0</td>\n",
       "    </tr>\n",
       "    <tr>\n",
       "      <th>E7.5_rep1_AAACAGCCAGGAACTG-1</th>\n",
       "      <td>E7.5_rep1_AAACAGCCAGGAACTG-1</td>\n",
       "      <td>E7.5_rep1</td>\n",
       "      <td>AAACAGCCAGGAACTG-1</td>\n",
       "      <td>E7.5_rep1#AAACAGCCAGGAACTG-1</td>\n",
       "      <td>1636.0</td>\n",
       "      <td>3268.0</td>\n",
       "      <td>22.552020</td>\n",
       "      <td>True</td>\n",
       "      <td>Def._endoderm</td>\n",
       "      <td>0.80</td>\n",
       "      <td>...</td>\n",
       "      <td>0.175377</td>\n",
       "      <td>1.327706</td>\n",
       "      <td>26061.0</td>\n",
       "      <td>0.024596</td>\n",
       "      <td>True</td>\n",
       "      <td>Def._endoderm</td>\n",
       "      <td>E7.5</td>\n",
       "      <td>2022</td>\n",
       "      <td>891</td>\n",
       "      <td>2022.0</td>\n",
       "    </tr>\n",
       "    <tr>\n",
       "      <th>E7.5_rep1_AAACAGCCATCCTGAA-1</th>\n",
       "      <td>E7.5_rep1_AAACAGCCATCCTGAA-1</td>\n",
       "      <td>E7.5_rep1</td>\n",
       "      <td>AAACAGCCATCCTGAA-1</td>\n",
       "      <td>E7.5_rep1#AAACAGCCATCCTGAA-1</td>\n",
       "      <td>2676.0</td>\n",
       "      <td>6033.0</td>\n",
       "      <td>21.631029</td>\n",
       "      <td>True</td>\n",
       "      <td>Nascent_mesoderm</td>\n",
       "      <td>0.88</td>\n",
       "      <td>...</td>\n",
       "      <td>0.153302</td>\n",
       "      <td>1.426056</td>\n",
       "      <td>22048.0</td>\n",
       "      <td>0.013176</td>\n",
       "      <td>True</td>\n",
       "      <td>Paraxial_mesoderm</td>\n",
       "      <td>E7.5</td>\n",
       "      <td>3349</td>\n",
       "      <td>2018</td>\n",
       "      <td>3349.0</td>\n",
       "    </tr>\n",
       "    <tr>\n",
       "      <th>E7.5_rep1_AAACAGCCATGCTATG-1</th>\n",
       "      <td>E7.5_rep1_AAACAGCCATGCTATG-1</td>\n",
       "      <td>E7.5_rep1</td>\n",
       "      <td>AAACAGCCATGCTATG-1</td>\n",
       "      <td>E7.5_rep1#AAACAGCCATGCTATG-1</td>\n",
       "      <td>3984.0</td>\n",
       "      <td>11992.0</td>\n",
       "      <td>24.966644</td>\n",
       "      <td>True</td>\n",
       "      <td>Epiblast</td>\n",
       "      <td>0.96</td>\n",
       "      <td>...</td>\n",
       "      <td>0.166364</td>\n",
       "      <td>1.230269</td>\n",
       "      <td>37415.0</td>\n",
       "      <td>0.016838</td>\n",
       "      <td>True</td>\n",
       "      <td>Surface_ectoderm</td>\n",
       "      <td>E7.5</td>\n",
       "      <td>7554</td>\n",
       "      <td>3098</td>\n",
       "      <td>7554.0</td>\n",
       "    </tr>\n",
       "  </tbody>\n",
       "</table>\n",
       "<p>5 rows × 31 columns</p>\n",
       "</div>"
      ],
      "text/plain": [
       "                                                      cell     sample  \\\n",
       "E7.5_rep1_AAACAGCCAAACTCAT-1  E7.5_rep1_AAACAGCCAAACTCAT-1  E7.5_rep1   \n",
       "E7.5_rep1_AAACAGCCACAACCTA-1  E7.5_rep1_AAACAGCCACAACCTA-1  E7.5_rep1   \n",
       "E7.5_rep1_AAACAGCCAGGAACTG-1  E7.5_rep1_AAACAGCCAGGAACTG-1  E7.5_rep1   \n",
       "E7.5_rep1_AAACAGCCATCCTGAA-1  E7.5_rep1_AAACAGCCATCCTGAA-1  E7.5_rep1   \n",
       "E7.5_rep1_AAACAGCCATGCTATG-1  E7.5_rep1_AAACAGCCATGCTATG-1  E7.5_rep1   \n",
       "\n",
       "                                         barcode  \\\n",
       "E7.5_rep1_AAACAGCCAAACTCAT-1  AAACAGCCAAACTCAT-1   \n",
       "E7.5_rep1_AAACAGCCACAACCTA-1  AAACAGCCACAACCTA-1   \n",
       "E7.5_rep1_AAACAGCCAGGAACTG-1  AAACAGCCAGGAACTG-1   \n",
       "E7.5_rep1_AAACAGCCATCCTGAA-1  AAACAGCCATCCTGAA-1   \n",
       "E7.5_rep1_AAACAGCCATGCTATG-1  AAACAGCCATGCTATG-1   \n",
       "\n",
       "                                                archR_cell  nFeature_RNA  \\\n",
       "E7.5_rep1_AAACAGCCAAACTCAT-1  E7.5_rep1#AAACAGCCAAACTCAT-1        2929.0   \n",
       "E7.5_rep1_AAACAGCCACAACCTA-1                           nan        4125.0   \n",
       "E7.5_rep1_AAACAGCCAGGAACTG-1  E7.5_rep1#AAACAGCCAGGAACTG-1        1636.0   \n",
       "E7.5_rep1_AAACAGCCATCCTGAA-1  E7.5_rep1#AAACAGCCATCCTGAA-1        2676.0   \n",
       "E7.5_rep1_AAACAGCCATGCTATG-1  E7.5_rep1#AAACAGCCATGCTATG-1        3984.0   \n",
       "\n",
       "                              nCount_RNA  mtFraction_RNA pass_rnaQC  \\\n",
       "E7.5_rep1_AAACAGCCAAACTCAT-1      7538.0       16.105068       True   \n",
       "E7.5_rep1_AAACAGCCACAACCTA-1     12134.0       20.092303       True   \n",
       "E7.5_rep1_AAACAGCCAGGAACTG-1      3268.0       22.552020       True   \n",
       "E7.5_rep1_AAACAGCCATCCTGAA-1      6033.0       21.631029       True   \n",
       "E7.5_rep1_AAACAGCCATGCTATG-1     11992.0       24.966644       True   \n",
       "\n",
       "                               celltype.mapped  celltype.score  ...  \\\n",
       "E7.5_rep1_AAACAGCCAAACTCAT-1     Def._endoderm            0.36  ...   \n",
       "E7.5_rep1_AAACAGCCACAACCTA-1      ExE_ectoderm            1.00  ...   \n",
       "E7.5_rep1_AAACAGCCAGGAACTG-1     Def._endoderm            0.80  ...   \n",
       "E7.5_rep1_AAACAGCCATCCTGAA-1  Nascent_mesoderm            0.88  ...   \n",
       "E7.5_rep1_AAACAGCCATGCTATG-1          Epiblast            0.96  ...   \n",
       "\n",
       "                             PromoterRatio_atac  NucleosomeRatio_atac  \\\n",
       "E7.5_rep1_AAACAGCCAAACTCAT-1           0.242666              2.428711   \n",
       "E7.5_rep1_AAACAGCCACAACCTA-1                NaN                   NaN   \n",
       "E7.5_rep1_AAACAGCCAGGAACTG-1           0.175377              1.327706   \n",
       "E7.5_rep1_AAACAGCCATCCTGAA-1           0.153302              1.426056   \n",
       "E7.5_rep1_AAACAGCCATGCTATG-1           0.166364              1.230269   \n",
       "\n",
       "                             nFrags_atac  BlacklistRatio_atac pass_atacQC  \\\n",
       "E7.5_rep1_AAACAGCCAAACTCAT-1      3511.0             0.076616       False   \n",
       "E7.5_rep1_AAACAGCCACAACCTA-1         NaN                  NaN       False   \n",
       "E7.5_rep1_AAACAGCCAGGAACTG-1     26061.0             0.024596        True   \n",
       "E7.5_rep1_AAACAGCCATCCTGAA-1     22048.0             0.013176        True   \n",
       "E7.5_rep1_AAACAGCCATGCTATG-1     37415.0             0.016838        True   \n",
       "\n",
       "                              celltype.predicted stage initial_size_spliced  \\\n",
       "E7.5_rep1_AAACAGCCAAACTCAT-1    Surface_ectoderm  E7.5                 6130   \n",
       "E7.5_rep1_AAACAGCCACAACCTA-1        ExE_ectoderm  E7.5                 7147   \n",
       "E7.5_rep1_AAACAGCCAGGAACTG-1       Def._endoderm  E7.5                 2022   \n",
       "E7.5_rep1_AAACAGCCATCCTGAA-1   Paraxial_mesoderm  E7.5                 3349   \n",
       "E7.5_rep1_AAACAGCCATGCTATG-1    Surface_ectoderm  E7.5                 7554   \n",
       "\n",
       "                             initial_size_unspliced  initial_size  \n",
       "E7.5_rep1_AAACAGCCAAACTCAT-1                    637        6130.0  \n",
       "E7.5_rep1_AAACAGCCACAACCTA-1                   3678        7147.0  \n",
       "E7.5_rep1_AAACAGCCAGGAACTG-1                    891        2022.0  \n",
       "E7.5_rep1_AAACAGCCATCCTGAA-1                   2018        3349.0  \n",
       "E7.5_rep1_AAACAGCCATGCTATG-1                   3098        7554.0  \n",
       "\n",
       "[5 rows x 31 columns]"
      ]
     },
     "execution_count": 171,
     "metadata": {},
     "output_type": "execute_result"
    }
   ],
   "source": [
    "adata_final.obs.head()"
   ]
  },
  {
   "cell_type": "markdown",
   "metadata": {},
   "source": [
    "# Save anndata object"
   ]
  },
  {
   "cell_type": "code",
   "execution_count": 172,
   "metadata": {
    "ExecuteTime": {
     "end_time": "2020-09-24T10:18:01.059108Z",
     "start_time": "2020-09-24T10:17:59.639277Z"
    }
   },
   "outputs": [],
   "source": [
    "adata_final.write_h5ad(io[\"outfile\"])"
   ]
  }
 ],
 "metadata": {
  "kernelspec": {
   "display_name": "Python 3",
   "language": "python",
   "name": "python3"
  },
  "language_info": {
   "codemirror_mode": {
    "name": "ipython",
    "version": 3
   },
   "file_extension": ".py",
   "mimetype": "text/x-python",
   "name": "python",
   "nbconvert_exporter": "python",
   "pygments_lexer": "ipython3",
   "version": "3.6.11"
  },
  "varInspector": {
   "cols": {
    "lenName": 16,
    "lenType": 16,
    "lenVar": 40
   },
   "kernels_config": {
    "python": {
     "delete_cmd_postfix": "",
     "delete_cmd_prefix": "del ",
     "library": "var_list.py",
     "varRefreshCmd": "print(var_dic_list())"
    },
    "r": {
     "delete_cmd_postfix": ") ",
     "delete_cmd_prefix": "rm(",
     "library": "var_list.r",
     "varRefreshCmd": "cat(var_dic_list()) "
    }
   },
   "position": {
    "height": "377px",
    "left": "1574px",
    "right": "20px",
    "top": "120px",
    "width": "326px"
   },
   "types_to_exclude": [
    "module",
    "function",
    "builtin_function_or_method",
    "instance",
    "_Feature"
   ],
   "window_display": false
  }
 },
 "nbformat": 4,
 "nbformat_minor": 5
}
